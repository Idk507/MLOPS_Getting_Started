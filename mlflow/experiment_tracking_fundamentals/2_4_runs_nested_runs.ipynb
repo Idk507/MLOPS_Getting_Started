{
 "cells": [
  {
   "cell_type": "markdown",
   "metadata": {},
   "source": [
    "# Nested Runs"
   ]
  },
  {
   "cell_type": "code",
   "execution_count": 1,
   "metadata": {},
   "outputs": [
    {
     "name": "stderr",
     "output_type": "stream",
     "text": [
      "c:\\Users\\dhanu\\miniconda3\\envs\\idk\\Lib\\site-packages\\mlflow\\__init__.py:41: UserWarning: Versions of mlflow (3.1.1) and mlflow-skinny (2.22.1) are different. This may lead to unexpected behavior. Please install the same version of both packages.\n",
      "  mlflow.mismatch._check_version_mismatch()\n"
     ]
    }
   ],
   "source": [
    "import mlflow\n",
    "from pathlib import Path \n",
    "\n",
    "def get_project_root() -> Path:\n",
    "    # When running in a notebook, we need to use a different approach than __file__\n",
    "    return Path.cwd().parents[2]  # Go up 3 levels from the notebook directory\n",
    "\n",
    "# set mlflow tracking uri\n",
    "mlflow.set_tracking_uri(uri=(get_project_root() / 'mlruns').as_uri())"
   ]
  },
  {
   "cell_type": "code",
   "execution_count": 2,
   "metadata": {},
   "outputs": [
    {
     "name": "stdout",
     "output_type": "stream",
     "text": [
      "Parent run_id: b2fa9e256cdb4ac685811ebfdf97e4ff\n",
      "Child run_id: 51fbd78f16c04ecf8a3aca1ebb063904\n",
      "Grandchild run_id: e2cdc479387145108b2e0bd7a5f2ae2b\n"
     ]
    }
   ],
   "source": [
    "# Before it was necessary to create a nested structure of runs to represent a parent-child relationship between runs.\n",
    "with mlflow.start_run(run_name=\"parent\") as parent_run:\n",
    "    print(\"Parent run_id:\", parent_run.info.run_id)\n",
    "    mlflow.log_param(\"parent_param1\", 2)\n",
    "\n",
    "    with mlflow.start_run(run_name=\"child\", nested=True) as child_run:\n",
    "        print(\"Child run_id:\", child_run.info.run_id)\n",
    "        mlflow.log_param(\"param1\", 1)\n",
    "        mlflow.log_metric(\"metric1\", 2.0)\n",
    "\n",
    "        with mlflow.start_run(run_name=\"grandchild\", nested=True) as grandchild_run:\n",
    "            print(\"Grandchild run_id:\", grandchild_run.info.run_id)\n",
    "            mlflow.log_param(\"param1\", 3)\n",
    "            mlflow.log_metric(\"metric1\", 4.0)"
   ]
  },
  {
   "cell_type": "markdown",
   "metadata": {},
   "source": [
    "## Nested runs using parent run"
   ]
  },
  {
   "cell_type": "code",
   "execution_count": 3,
   "metadata": {},
   "outputs": [
    {
     "name": "stdout",
     "output_type": "stream",
     "text": [
      "Parent run_id: 4224c0225b6b4468a0afbc60eae03672\n",
      "Child run_id: 5a2d4192ddcb48b69a42a08e47be5cc5\n",
      "Grandchild run_id: e315058d774f4082947783353e8dd45d\n"
     ]
    }
   ],
   "source": [
    "# Now, it is possible to create a nested structure of runs using parent_run_id parameter.\n",
    "with mlflow.start_run(run_name=\"parent\") as parent_run:\n",
    "    print(\"Parent run_id:\", parent_run.info.run_id)\n",
    "    mlflow.log_param(\"parent_param1\", 2)\n",
    "\n",
    "with mlflow.start_run(run_name=\"child\", parent_run_id=parent_run.info.run_id) as child_run:\n",
    "    print(\"Child run_id:\", child_run.info.run_id)\n",
    "    mlflow.log_param(\"param1\", 1)\n",
    "    mlflow.log_metric(\"metric1\", 2.0)\n",
    "\n",
    "with mlflow.start_run(run_name=\"grandchild\", parent_run_id=child_run.info.run_id) as grandchild_run:\n",
    "    print(\"Grandchild run_id:\", grandchild_run.info.run_id)\n",
    "    mlflow.log_param(\"param1\", 3)\n",
    "    mlflow.log_metric(\"metric1\", 4.0)"
   ]
  },
  {
   "cell_type": "code",
   "execution_count": null,
   "metadata": {},
   "outputs": [],
   "source": []
  }
 ],
 "metadata": {
  "kernelspec": {
   "display_name": "idk",
   "language": "python",
   "name": "python3"
  },
  "language_info": {
   "codemirror_mode": {
    "name": "ipython",
    "version": 3
   },
   "file_extension": ".py",
   "mimetype": "text/x-python",
   "name": "python",
   "nbconvert_exporter": "python",
   "pygments_lexer": "ipython3",
   "version": "3.11.11"
  }
 },
 "nbformat": 4,
 "nbformat_minor": 2
}
